{
  "nbformat": 4,
  "nbformat_minor": 0,
  "metadata": {
    "colab": {
      "name": "M2P2V4 Struktur Data String Maya Rajuningsih 2000015028 ",
      "provenance": []
    },
    "kernelspec": {
      "name": "python3",
      "display_name": "Python 3"
    },
    "language_info": {
      "name": "python"
    }
  },
  "cells": [
    {
      "cell_type": "markdown",
      "metadata": {
        "id": "ZDBu0OEcOMqO"
      },
      "source": [
        "# String"
      ]
    },
    {
      "cell_type": "markdown",
      "metadata": {
        "id": "AfZbsHaTOQ2h"
      },
      "source": [
        "string di deklarasikan dengan di apit oleh tanda petik."
      ]
    },
    {
      "cell_type": "code",
      "metadata": {
        "colab": {
          "base_uri": "https://localhost:8080/"
        },
        "id": "ZjLO4DfMN-P1",
        "outputId": "957f5651-7848-4ae9-c092-13dbd3e2a322"
      },
      "source": [
        "#menampilkan string dengan fungsi print()\n",
        "print(\"Hello World!\")"
      ],
      "execution_count": 1,
      "outputs": [
        {
          "output_type": "stream",
          "name": "stdout",
          "text": [
            "Hello World!\n"
          ]
        }
      ]
    },
    {
      "cell_type": "code",
      "metadata": {
        "colab": {
          "base_uri": "https://localhost:8080/"
        },
        "id": "qLZAqbq-OmtO",
        "outputId": "754ab7aa-2021-4104-c80a-595816c96547"
      },
      "source": [
        "#membuat varibael bertipe string\n",
        "A=\"Belajar Struktur data string\"\n",
        "print(A)"
      ],
      "execution_count": 2,
      "outputs": [
        {
          "output_type": "stream",
          "name": "stdout",
          "text": [
            "Belajar Struktur data string\n"
          ]
        }
      ]
    },
    {
      "cell_type": "code",
      "metadata": {
        "colab": {
          "base_uri": "https://localhost:8080/"
        },
        "id": "CZ9BMBYnOxW3",
        "outputId": "1232d20d-6989-4752-d378-f1b141e3f0b0"
      },
      "source": [
        "#membuat varibael string multi-line dengan 3 tanda petik\n",
        "B=\"\"\"Belajar Python\n",
        "Pejuang data 3.0\n",
        "PSDS\n",
        "string\"\"\"\n",
        "print(B)"
      ],
      "execution_count": 3,
      "outputs": [
        {
          "output_type": "stream",
          "name": "stdout",
          "text": [
            "Belajar Python\n",
            "Pejuang data 3.0\n",
            "PSDS\n",
            "string\n"
          ]
        }
      ]
    },
    {
      "cell_type": "code",
      "metadata": {
        "colab": {
          "base_uri": "https://localhost:8080/"
        },
        "id": "V4InOo8yPAOs",
        "outputId": "a28885e9-5933-4189-9af5-cced0e64613d"
      },
      "source": [
        "#menampilkan karakter teruntuk dalam string\n",
        "print(A[2])"
      ],
      "execution_count": 4,
      "outputs": [
        {
          "output_type": "stream",
          "name": "stdout",
          "text": [
            "l\n"
          ]
        }
      ]
    },
    {
      "cell_type": "code",
      "metadata": {
        "colab": {
          "base_uri": "https://localhost:8080/"
        },
        "id": "m02DyT3BPGpo",
        "outputId": "aa99d630-43d9-45ea-9371-b30f96babef2"
      },
      "source": [
        "#slicing pada string\n",
        "A=\"Belajar struktur data string\"\n",
        "print(A[:5])\n",
        "print(A[3:])\n",
        "print(A[-5:])\n",
        "print(A[4:9])"
      ],
      "execution_count": 5,
      "outputs": [
        {
          "output_type": "stream",
          "name": "stdout",
          "text": [
            "Belaj\n",
            "ajar struktur data string\n",
            "tring\n",
            "jar s\n"
          ]
        }
      ]
    },
    {
      "cell_type": "markdown",
      "metadata": {
        "id": "X0R0_Cm2PbrK"
      },
      "source": [
        "#latihan 1"
      ]
    },
    {
      "cell_type": "code",
      "metadata": {
        "id": "ataqxgL1PafZ"
      },
      "source": [
        "#buatlah variabel string lalu lakukan slicing dengan menghilangkan \n",
        "#karakter pertama dan terakhir"
      ],
      "execution_count": null,
      "outputs": []
    },
    {
      "cell_type": "code",
      "metadata": {
        "colab": {
          "base_uri": "https://localhost:8080/"
        },
        "id": "TUZcBng0QXzF",
        "outputId": "53729d57-e7bd-4d4d-94f5-4d84e447dfaa"
      },
      "source": [
        "M=\"Nama Saya Maya Rajuningsih\"\n",
        "print(M[1:])\n",
        "print(M[:-1])\n",
        "print(M[1:-1])"
      ],
      "execution_count": 14,
      "outputs": [
        {
          "output_type": "stream",
          "name": "stdout",
          "text": [
            "ama Saya Maya Rajuningsih\n",
            "Nama Saya Maya Rajuningsi\n",
            "ama Saya Maya Rajuningsi\n"
          ]
        }
      ]
    },
    {
      "cell_type": "markdown",
      "metadata": {
        "id": "spMzGWVRQ0q2"
      },
      "source": [
        "#Memodifikasi string"
      ]
    },
    {
      "cell_type": "code",
      "metadata": {
        "colab": {
          "base_uri": "https://localhost:8080/",
          "height": 35
        },
        "id": "uh1iA8hqQ4D_",
        "outputId": "ab2882c7-0306-4140-fdb4-5aae788635ca"
      },
      "source": [
        "#upper()\n",
        "A.upper()"
      ],
      "execution_count": 15,
      "outputs": [
        {
          "output_type": "execute_result",
          "data": {
            "application/vnd.google.colaboratory.intrinsic+json": {
              "type": "string"
            },
            "text/plain": [
              "'BELAJAR STRUKTUR DATA STRING'"
            ]
          },
          "metadata": {},
          "execution_count": 15
        }
      ]
    },
    {
      "cell_type": "code",
      "metadata": {
        "colab": {
          "base_uri": "https://localhost:8080/",
          "height": 35
        },
        "id": "aX_Rm-BlRHUd",
        "outputId": "e8c1acb0-3e09-4b9a-e429-2eb95cd1fa6c"
      },
      "source": [
        "#lower()\n",
        "A.lower()"
      ],
      "execution_count": 17,
      "outputs": [
        {
          "output_type": "execute_result",
          "data": {
            "application/vnd.google.colaboratory.intrinsic+json": {
              "type": "string"
            },
            "text/plain": [
              "'belajar struktur data string'"
            ]
          },
          "metadata": {},
          "execution_count": 17
        }
      ]
    },
    {
      "cell_type": "code",
      "metadata": {
        "colab": {
          "base_uri": "https://localhost:8080/",
          "height": 35
        },
        "id": "zUeGRPqIQ_q6",
        "outputId": "959173da-8c94-4354-c405-68fb38e98bf1"
      },
      "source": [
        "#strip()\n",
        "A.strip()"
      ],
      "execution_count": 16,
      "outputs": [
        {
          "output_type": "execute_result",
          "data": {
            "application/vnd.google.colaboratory.intrinsic+json": {
              "type": "string"
            },
            "text/plain": [
              "'Belajar struktur data string'"
            ]
          },
          "metadata": {},
          "execution_count": 16
        }
      ]
    },
    {
      "cell_type": "code",
      "metadata": {
        "colab": {
          "base_uri": "https://localhost:8080/",
          "height": 35
        },
        "id": "qv_tdTmjRNI5",
        "outputId": "bf36c326-e7a1-4b64-cff2-c46ed38d01a9"
      },
      "source": [
        "#replace()\n",
        "A.replace('l','d')"
      ],
      "execution_count": 26,
      "outputs": [
        {
          "output_type": "execute_result",
          "data": {
            "application/vnd.google.colaboratory.intrinsic+json": {
              "type": "string"
            },
            "text/plain": [
              "'Bedajar Struktur data string'"
            ]
          },
          "metadata": {},
          "execution_count": 26
        }
      ]
    },
    {
      "cell_type": "code",
      "metadata": {
        "colab": {
          "base_uri": "https://localhost:8080/"
        },
        "id": "jcJLcQamRFZp",
        "outputId": "aee02ae0-89ea-4cb4-fe76-bdef31262fee"
      },
      "source": [
        "#split()\n",
        "A.split()"
      ],
      "execution_count": 22,
      "outputs": [
        {
          "output_type": "execute_result",
          "data": {
            "text/plain": [
              "['Belajar', 'struktur', 'data', 'string']"
            ]
          },
          "metadata": {},
          "execution_count": 22
        }
      ]
    },
    {
      "cell_type": "markdown",
      "metadata": {
        "id": "kHewXS6hRqAd"
      },
      "source": [
        "#Menggabungkan String"
      ]
    },
    {
      "cell_type": "code",
      "metadata": {
        "colab": {
          "base_uri": "https://localhost:8080/",
          "height": 35
        },
        "id": "lZ23bqlsRsYB",
        "outputId": "601e54bd-51b5-45e7-bd59-3bdc8ff6acf0"
      },
      "source": [
        "A=\"Belajar Struktur data string\"\n",
        "B=\"Pejuang data 3.0\"\n",
        "A+\" \"+B"
      ],
      "execution_count": 23,
      "outputs": [
        {
          "output_type": "execute_result",
          "data": {
            "application/vnd.google.colaboratory.intrinsic+json": {
              "type": "string"
            },
            "text/plain": [
              "'Belajar Struktur data string Pejuang data 3.0'"
            ]
          },
          "metadata": {},
          "execution_count": 23
        }
      ]
    },
    {
      "cell_type": "markdown",
      "metadata": {
        "id": "ChreEI0JR3L2"
      },
      "source": [
        "#Latihan 2"
      ]
    },
    {
      "cell_type": "code",
      "metadata": {
        "id": "0JO6nkUDR4uE"
      },
      "source": [
        "#ganti semua huruf vokal menjadi \"i\" pada string yang telah kalian\n",
        "#buat pada latihan 1"
      ],
      "execution_count": null,
      "outputs": []
    },
    {
      "cell_type": "code",
      "metadata": {
        "colab": {
          "base_uri": "https://localhost:8080/"
        },
        "id": "MF_yBatrSDKF",
        "outputId": "22006888-21aa-4faf-f479-18f9353f7969"
      },
      "source": [
        "print(M)\n",
        "A=M.replace('a', 'i')\n",
        "B=M.replace('u','i')\n",
        "C=M.replace('e','i')\n",
        "D=M.replace('o','i')\n",
        "print(A)\n",
        "print(B)\n",
        "print(C)\n",
        "print(D)"
      ],
      "execution_count": 36,
      "outputs": [
        {
          "output_type": "stream",
          "name": "stdout",
          "text": [
            "Nama Saya Maya Rajuningsih\n",
            "Nimi Siyi Miyi Rijuningsih\n",
            "Nama Saya Maya Rajiningsih\n",
            "Nama Saya Maya Rajuningsih\n",
            "Nama Saya Maya Rajuningsih\n"
          ]
        }
      ]
    }
  ]
}