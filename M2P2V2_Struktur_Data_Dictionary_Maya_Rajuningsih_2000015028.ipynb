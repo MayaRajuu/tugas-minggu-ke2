{
  "nbformat": 4,
  "nbformat_minor": 0,
  "metadata": {
    "colab": {
      "name": "M2P2V2 Struktur Data Dictionary Maya Rajuningsih 2000015028",
      "provenance": []
    },
    "kernelspec": {
      "name": "python3",
      "display_name": "Python 3"
    },
    "language_info": {
      "name": "python"
    }
  },
  "cells": [
    {
      "cell_type": "markdown",
      "metadata": {
        "id": "GtQZyBPbSlFg"
      },
      "source": [
        "#Dictionary"
      ]
    },
    {
      "cell_type": "markdown",
      "metadata": {
        "id": "6OAWkUdpSpLy"
      },
      "source": [
        "Dictionary pada python adalah kumpulan pasangan kunci-nilai (pair of key-value) yang bersifat tidak berurutan. Dictionary dapat digunakan untuk menyimpan data kecil hingga besar. untuk mengakses datanya, kita harus mengetahui kuncinya (key). Pada python, dictionary didefinisikan dengan kurawal dan tambahan definisi berikut:\n",
        "\n",
        "\n",
        "*   setiap elemen pair key-value dipisahkan dengan koma (,).\n",
        "*   key dan value dipisahkan dengan titik dua (:).\n",
        "* key dan value dapat berupa tipe variabel/obyek apapun\n",
        "\n"
      ]
    },
    {
      "cell_type": "code",
      "metadata": {
        "colab": {
          "base_uri": "https://localhost:8080/"
        },
        "id": "2OdMUMfbSOwy",
        "outputId": "6f48376c-38f1-4f24-b0de-e55a3c66b54b"
      },
      "source": [
        "L1= [1, 'dua', True, 2+3j, 2+3j]\n",
        "L1"
      ],
      "execution_count": 4,
      "outputs": [
        {
          "output_type": "execute_result",
          "data": {
            "text/plain": [
              "[1, 'dua', True, (2+3j), (2+3j)]"
            ]
          },
          "metadata": {},
          "execution_count": 4
        }
      ]
    },
    {
      "cell_type": "code",
      "metadata": {
        "colab": {
          "base_uri": "https://localhost:8080/"
        },
        "id": "2yxNS-36Up1N",
        "outputId": "d8feaa07-d7d5-4631-fc90-a98992639681"
      },
      "source": [
        "#contoh Dictionary\n",
        "D1={1:'value','key':2}\n",
        "\n",
        "print(D1)"
      ],
      "execution_count": 5,
      "outputs": [
        {
          "output_type": "stream",
          "name": "stdout",
          "text": [
            "{1: 'value', 'key': 2}\n"
          ]
        }
      ]
    },
    {
      "cell_type": "markdown",
      "metadata": {
        "id": "eqkuYBmDU94T"
      },
      "source": [
        "#Latihan 1"
      ]
    },
    {
      "cell_type": "code",
      "metadata": {
        "colab": {
          "base_uri": "https://localhost:8080/"
        },
        "id": "ayBEounQVAaD",
        "outputId": "d742e5e2-deff-4a91-b910-d39fc552a21d"
      },
      "source": [
        "#Buatlah struktur data dictionary kalian sendiri\n",
        "M1={2:'D','M':2+3j}\n",
        "print(M1)"
      ],
      "execution_count": 7,
      "outputs": [
        {
          "output_type": "stream",
          "name": "stdout",
          "text": [
            "{2: 'D', 'M': (2+3j)}\n"
          ]
        }
      ]
    },
    {
      "cell_type": "code",
      "metadata": {
        "colab": {
          "base_uri": "https://localhost:8080/"
        },
        "id": "sJdhkPCMV5aw",
        "outputId": "959166d3-e2d9-4029-f82d-131cd7f04e30"
      },
      "source": [
        "L1[0]"
      ],
      "execution_count": 8,
      "outputs": [
        {
          "output_type": "execute_result",
          "data": {
            "text/plain": [
              "1"
            ]
          },
          "metadata": {},
          "execution_count": 8
        }
      ]
    },
    {
      "cell_type": "code",
      "metadata": {
        "colab": {
          "base_uri": "https://localhost:8080/"
        },
        "id": "hiifVOzdV9BJ",
        "outputId": "fb27a6c5-69ae-44e2-e1a7-4ec40f4f3c6d"
      },
      "source": [
        "D1['key']"
      ],
      "execution_count": 9,
      "outputs": [
        {
          "output_type": "execute_result",
          "data": {
            "text/plain": [
              "2"
            ]
          },
          "metadata": {},
          "execution_count": 9
        }
      ]
    },
    {
      "cell_type": "code",
      "metadata": {
        "colab": {
          "base_uri": "https://localhost:8080/"
        },
        "id": "xHm3hQo1WFxg",
        "outputId": "4e168f37-77f5-4f25-dd5c-7069bd2cd87c"
      },
      "source": [
        "#memanggil elemen berdasarkan key\n",
        "print(\"D1['key'] = \", D1['key']);"
      ],
      "execution_count": 10,
      "outputs": [
        {
          "output_type": "stream",
          "name": "stdout",
          "text": [
            "D1['key'] =  2\n"
          ]
        }
      ]
    },
    {
      "cell_type": "markdown",
      "metadata": {
        "id": "aPobCk2xWTMv"
      },
      "source": [
        "Distionary bukan dalam implementasi urutan (sequences), sehingga tidak bisa dipanggil dengan urutan indeks. misalkan dalam contoh berikut dicoba dengan indeks 2, tetapi menghasilkan error (keyError) karena tidak ada kunci (key) 2:"
      ]
    },
    {
      "cell_type": "code",
      "metadata": {
        "colab": {
          "base_uri": "https://localhost:8080/",
          "height": 180
        },
        "id": "WKcCom-yWsx_",
        "outputId": "808232f7-ddbc-4ebc-d0d8-9048fb2827d1"
      },
      "source": [
        "#nyobain eror\n",
        "print(\"D1[2] =\", D1[2]);"
      ],
      "execution_count": 11,
      "outputs": [
        {
          "output_type": "error",
          "ename": "KeyError",
          "evalue": "ignored",
          "traceback": [
            "\u001b[0;31m---------------------------------------------------------------------------\u001b[0m",
            "\u001b[0;31mKeyError\u001b[0m                                  Traceback (most recent call last)",
            "\u001b[0;32m<ipython-input-11-ef357d6dec93>\u001b[0m in \u001b[0;36m<module>\u001b[0;34m()\u001b[0m\n\u001b[1;32m      1\u001b[0m \u001b[0;31m#nyobain eror\u001b[0m\u001b[0;34m\u001b[0m\u001b[0;34m\u001b[0m\u001b[0;34m\u001b[0m\u001b[0m\n\u001b[0;32m----> 2\u001b[0;31m \u001b[0mprint\u001b[0m\u001b[0;34m(\u001b[0m\u001b[0;34m\"D1[2] =\"\u001b[0m\u001b[0;34m,\u001b[0m \u001b[0mD1\u001b[0m\u001b[0;34m[\u001b[0m\u001b[0;36m2\u001b[0m\u001b[0;34m]\u001b[0m\u001b[0;34m)\u001b[0m\u001b[0;34m;\u001b[0m\u001b[0;34m\u001b[0m\u001b[0;34m\u001b[0m\u001b[0m\n\u001b[0m",
            "\u001b[0;31mKeyError\u001b[0m: 2"
          ]
        }
      ]
    },
    {
      "cell_type": "markdown",
      "metadata": {
        "id": "WT1gXR7IW1dH"
      },
      "source": [
        "#Latihan 2"
      ]
    },
    {
      "cell_type": "code",
      "metadata": {
        "colab": {
          "base_uri": "https://localhost:8080/"
        },
        "id": "--h0SIsCW5o_",
        "outputId": "e7b0e3ba-04cb-470b-9939-031ca35167f0"
      },
      "source": [
        "#panggil salah satu key dan value pada dictionary yang kalian buat\n",
        "print(\"M1['M'] =\",M1['M']);"
      ],
      "execution_count": 15,
      "outputs": [
        {
          "output_type": "stream",
          "name": "stdout",
          "text": [
            "M1['M'] = (2+3j)\n"
          ]
        }
      ]
    }
  ]
}