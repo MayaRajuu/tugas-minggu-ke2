{
  "nbformat": 4,
  "nbformat_minor": 0,
  "metadata": {
    "colab": {
      "name": "M2P2V2 Konversi Struktur Data Maya Rajuningsih 2000015028",
      "provenance": []
    },
    "kernelspec": {
      "name": "python3",
      "display_name": "Python 3"
    },
    "language_info": {
      "name": "python"
    }
  },
  "cells": [
    {
      "cell_type": "markdown",
      "metadata": {
        "id": "-jw9C8iycKfS"
      },
      "source": [
        "#Konversi Struktur Data"
      ]
    },
    {
      "cell_type": "markdown",
      "metadata": {
        "id": "SNSH2B88cPZ-"
      },
      "source": [
        "fungsi untuk mengubah/mkonversi struktur data :\n",
        "a. `list()` : untuk mengubah menjadi list\n",
        "b. `tuple()` : untuk mengubah menjadi tuple\n",
        "c. `set()` : untuk mengubah menjadi set\n",
        "d. `dict()` : untuk emngubah menajdi distionary\n",
        "\n",
        "\n",
        "\n"
      ]
    },
    {
      "cell_type": "markdown",
      "metadata": {
        "id": "e9vs2b3ZcxIZ"
      },
      "source": [
        "#Mengkonversi tipe data list"
      ]
    },
    {
      "cell_type": "code",
      "metadata": {
        "id": "geQMgAUZYA3a"
      },
      "source": [
        "#membuah 2 list\n",
        "L1=[1,2,3,4]\n",
        "L2=[5,6,7,8]"
      ],
      "execution_count": 1,
      "outputs": []
    },
    {
      "cell_type": "code",
      "metadata": {
        "colab": {
          "base_uri": "https://localhost:8080/"
        },
        "id": "OlA-kgS-c9jE",
        "outputId": "3e8547e2-db5f-4d5e-bbfd-1cf3adde2c09"
      },
      "source": [
        "#mengkonversikan struktur data list\n",
        "k_tuple =tuple(L1)\n",
        "k_set=set(L2)\n",
        "k_dict=dict(zip(L1,L2))\n",
        "#melihat data yang telah dikonveri\n",
        "print(k_tuple)\n",
        "print(k_set)\n",
        "print(k_dict)"
      ],
      "execution_count": 4,
      "outputs": [
        {
          "output_type": "stream",
          "name": "stdout",
          "text": [
            "(1, 2, 3, 4)\n",
            "{8, 5, 6, 7}\n",
            "{1: 5, 2: 6, 3: 7, 4: 8}\n"
          ]
        }
      ]
    },
    {
      "cell_type": "markdown",
      "metadata": {
        "id": "ZKk3jmGmdiif"
      },
      "source": [
        "#mengkonveri tipe data tuple :"
      ]
    },
    {
      "cell_type": "code",
      "metadata": {
        "id": "k2xl-JFIdlq4"
      },
      "source": [
        "#membuat dua tuple\n",
        "T1=(1,2,3,4)\n",
        "T2=(5,6,7,8)"
      ],
      "execution_count": 5,
      "outputs": []
    },
    {
      "cell_type": "code",
      "metadata": {
        "colab": {
          "base_uri": "https://localhost:8080/"
        },
        "id": "1UGbQal_dsYO",
        "outputId": "363e45f5-cc7f-413f-ebcf-30f48f2a9fed"
      },
      "source": [
        "#mengkonversi struktur data tuple\n",
        "k_list=list(T1)\n",
        "k_set=set(T2)\n",
        "k_dict=dict(zip(T1,T2))\n",
        "#melihat data yang telah dikonversi\n",
        "print(k_list)\n",
        "print(k_set)\n",
        "print(k_dict)"
      ],
      "execution_count": 16,
      "outputs": [
        {
          "output_type": "stream",
          "name": "stdout",
          "text": [
            "[1, 2, 3, 4]\n",
            "{8, 5, 6, 7}\n",
            "{1: 5, 2: 6, 3: 7, 4: 8}\n"
          ]
        }
      ]
    },
    {
      "cell_type": "markdown",
      "metadata": {
        "id": "JxgcxqcfeGBU"
      },
      "source": [
        "#mengkonversi tipe data set\n"
      ]
    },
    {
      "cell_type": "code",
      "metadata": {
        "id": "bsEuFUGOeJgb"
      },
      "source": [
        "#membuat data set\n",
        "S1={1,2,3,4}\n",
        "S2={5,6,7,8}"
      ],
      "execution_count": 7,
      "outputs": []
    },
    {
      "cell_type": "code",
      "metadata": {
        "colab": {
          "base_uri": "https://localhost:8080/"
        },
        "id": "BuqJrGl5eRN9",
        "outputId": "d9f1525f-6170-422c-b179-273d9e535d7d"
      },
      "source": [
        "#mengkonversi struktur data tuple\n",
        "k_list=list(S1)\n",
        "k_tuple=tuple(S2)\n",
        "k_dict=dict(zip(S1,S2))\n",
        "#melihat data yang telah dikonversi\n",
        "print(k_list)\n",
        "print(k_tuple)\n",
        "print(k_dict)"
      ],
      "execution_count": 8,
      "outputs": [
        {
          "output_type": "stream",
          "name": "stdout",
          "text": [
            "[1, 2, 3, 4]\n",
            "(8, 5, 6, 7)\n",
            "{1: 8, 2: 5, 3: 6, 4: 7}\n"
          ]
        }
      ]
    },
    {
      "cell_type": "markdown",
      "metadata": {
        "id": "_UTRLgIGeexO"
      },
      "source": [
        "#Mengkonversi tipe data list"
      ]
    },
    {
      "cell_type": "code",
      "metadata": {
        "id": "zdgLmJnIei4x"
      },
      "source": [
        "#membuat dictionary\n",
        "D={\"nama\":\"Andi\",\n",
        "   \"alamat\":\"yogyakarta\",\n",
        "   \"umur\":20}"
      ],
      "execution_count": 12,
      "outputs": []
    },
    {
      "cell_type": "code",
      "metadata": {
        "colab": {
          "base_uri": "https://localhost:8080/"
        },
        "id": "Pk0ExuCZeyqT",
        "outputId": "7e37cfc3-9728-4df5-ca89-69dde9fa9da2"
      },
      "source": [
        "#mengkonversi struktur data dictionary dari key dan value-nya \n",
        "k_list=list(D.keys())\n",
        "k_tuple = tuple(D.values())\n",
        "K_set=set(D.keys())\n",
        "#melihat data yang telah dikonversi\n",
        "print(k_list)\n",
        "print(k_tuple)\n",
        "print(k_set)"
      ],
      "execution_count": 14,
      "outputs": [
        {
          "output_type": "stream",
          "name": "stdout",
          "text": [
            "['nama', 'alamat', 'umur']\n",
            "('Andi', 'yogyakarta', 20)\n",
            "{8, 5, 6, 7}\n"
          ]
        }
      ]
    },
    {
      "cell_type": "markdown",
      "metadata": {
        "id": "aiTxugVafreU"
      },
      "source": [
        "#Latihan"
      ]
    },
    {
      "cell_type": "code",
      "metadata": {
        "id": "GSp-ujjOftYK"
      },
      "source": [
        "#lakukan konversi struktur adata yang kalian buat pada notebook-notebook\n",
        "#sebelumnya menjadi list,tuple,set dan dictionary ( masing-masing satu)"
      ],
      "execution_count": null,
      "outputs": []
    },
    {
      "cell_type": "code",
      "metadata": {
        "colab": {
          "base_uri": "https://localhost:8080/"
        },
        "id": "akJu-9P9gK7b",
        "outputId": "b29092b8-a7d2-4833-9a97-14062821316f"
      },
      "source": [
        "#List \n",
        "M1=[1,2,3,4,5]\n",
        "M2=[\"data\", \"sains\", 12]\n",
        "#mengkonversikan struktur data list\n",
        "k_tuple =tuple(M1)\n",
        "k_set=set(M2)\n",
        "k_dict=dict(zip(M1,M2))\n",
        "#melihat data yang telah dikonveri\n",
        "print(k_tuple)\n",
        "print(k_set)\n",
        "print(k_dict)"
      ],
      "execution_count": 15,
      "outputs": [
        {
          "output_type": "stream",
          "name": "stdout",
          "text": [
            "(1, 2, 3, 4, 5)\n",
            "{'data', 12, 'sains'}\n",
            "{1: 'data', 2: 'sains', 3: 12}\n"
          ]
        }
      ]
    },
    {
      "cell_type": "code",
      "metadata": {
        "colab": {
          "base_uri": "https://localhost:8080/"
        },
        "id": "xUtNffkfhBQL",
        "outputId": "dcc6d864-251e-4fdc-c649-134808f35da5"
      },
      "source": [
        "#Tuple\n",
        "M1=(2, 30, False, 3+2j)\n",
        "M2=(1,1,True,2+3j,3)\n",
        "#mengkonversi struktur data tuple\n",
        "k_list=list(M1)\n",
        "k_set=set(M2)\n",
        "k_dict=dict(zip(M1,M2))\n",
        "#melihat data yang telah dikonversi\n",
        "print(k_list)\n",
        "print(k_set)\n",
        "print(k_dict)"
      ],
      "execution_count": 17,
      "outputs": [
        {
          "output_type": "stream",
          "name": "stdout",
          "text": [
            "[2, 30, False, (3+2j)]\n",
            "{3, 1, (2+3j)}\n",
            "{2: 1, 30: 1, False: True, (3+2j): (2+3j)}\n"
          ]
        }
      ]
    },
    {
      "cell_type": "code",
      "metadata": {
        "colab": {
          "base_uri": "https://localhost:8080/"
        },
        "id": "bL5Ty82AhiMh",
        "outputId": "c3bab5f0-f3ff-4d7e-c6ff-bfd0986ea6cf"
      },
      "source": [
        "#Set\n",
        "M1={2,\"Mobil\",True, 3+4j}\n",
        "M2={10,2,4,5,9}\n",
        "#mengkonversi struktur data tuple\n",
        "k_list=list(M1)\n",
        "k_tuple=tuple(M2)\n",
        "k_dict=dict(zip(M1,M2))\n",
        "#melihat data yang telah dikonversi\n",
        "print(k_list)\n",
        "print(k_tuple)\n",
        "print(k_dict)"
      ],
      "execution_count": 18,
      "outputs": [
        {
          "output_type": "stream",
          "name": "stdout",
          "text": [
            "[True, 2, (3+4j), 'Mobil']\n",
            "(2, 4, 5, 9, 10)\n",
            "{True: 2, 2: 4, (3+4j): 5, 'Mobil': 9}\n"
          ]
        }
      ]
    },
    {
      "cell_type": "code",
      "metadata": {
        "colab": {
          "base_uri": "https://localhost:8080/"
        },
        "id": "psP4DZ17mqbt",
        "outputId": "24ef6ae0-dc7c-4303-e0b8-5901a1608722"
      },
      "source": [
        "#Dictionary\n",
        "M={\"saya\":\"Maya Rajuningsih\",\n",
        "    \"umur\":19,\n",
        "    \"jurusan\": \"Matematika\"}\n",
        "#mengkonversi struktur data dictionary dari key dan value-nya \n",
        "k_list=list(M.keys())\n",
        "k_tuple = tuple(M.values())\n",
        "k_set=set(M.keys())\n",
        "#melihat data yang telah dikonversi\n",
        "print(k_list)\n",
        "print(k_tuple)\n",
        "print(k_set)"
      ],
      "execution_count": 21,
      "outputs": [
        {
          "output_type": "stream",
          "name": "stdout",
          "text": [
            "['saya', 'umur', 'jurusan']\n",
            "('Maya Rajuningsih', 19, 'Matematika')\n",
            "{'jurusan', 'saya', 'umur'}\n"
          ]
        }
      ]
    }
  ]
}